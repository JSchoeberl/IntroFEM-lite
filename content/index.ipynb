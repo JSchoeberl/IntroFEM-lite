{
 "cells": [
  {
   "cell_type": "markdown",
   "id": "014d41da-0eaf-4116-ab7c-5db50d6e1dae",
   "metadata": {},
   "source": [
    "## Einführung in die Finite Elemente Methode\n",
    "TU-Wien Ringvorlesung \n",
    "\n",
    "Joachim Schöberl \n",
    "Institut für Analysis und Scientific Computing (E101)"
   ]
  },
  {
   "cell_type": "markdown",
   "id": "a8f3ad34-b12c-4675-8a07-35d851b8162c",
   "metadata": {},
   "source": [
    "[FEM im ersten Jahr](PoissonGleichung.ipynb)"
   ]
  },
  {
   "cell_type": "code",
   "execution_count": null,
   "id": "5cf8a5b7-53f2-4d90-bb77-e2be74b7b29f",
   "metadata": {},
   "outputs": [],
   "source": []
  }
 ],
 "metadata": {
  "kernelspec": {
   "display_name": "Python 3 (ipykernel)",
   "language": "python",
   "name": "python3"
  },
  "language_info": {
   "codemirror_mode": {
    "name": "ipython",
    "version": 3
   },
   "file_extension": ".py",
   "mimetype": "text/x-python",
   "name": "python",
   "nbconvert_exporter": "python",
   "pygments_lexer": "ipython3",
   "version": "3.12.2"
  }
 },
 "nbformat": 4,
 "nbformat_minor": 5
}
